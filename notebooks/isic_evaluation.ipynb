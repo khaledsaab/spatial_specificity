{
 "cells": [
  {
   "cell_type": "code",
   "execution_count": 1,
   "metadata": {},
   "outputs": [],
   "source": [
    "%load_ext autoreload\n",
    "%autoreload 2"
   ]
  },
  {
   "cell_type": "code",
   "execution_count": 2,
   "metadata": {},
   "outputs": [
    {
     "name": "stderr",
     "output_type": "stream",
     "text": [
      "/home/ksaab/miniconda3/envs/mlhc/lib/python3.9/site-packages/meerkat/nn/__init__.py:7: ExperimentalWarning: The `meerkat.nn` module is experimental and has limited test coverage. Proceed with caution.\n",
      "  warnings.warn(\n"
     ]
    }
   ],
   "source": [
    "import numpy as np\n",
    "import sys\n",
    "sys.path.append(\"../\")\n",
    "from sklearn.metrics import roc_auc_score\n",
    "from src.utils import get_activations\n",
    "from src.data.isic import build_isic_dp"
   ]
  },
  {
   "cell_type": "code",
   "execution_count": 3,
   "metadata": {},
   "outputs": [
    {
     "data": {
      "text/plain": [
       "2853"
      ]
     },
     "execution_count": 3,
     "metadata": {},
     "output_type": "execute_result"
    }
   ],
   "source": [
    "# build datapanel\n",
    "dp = build_isic_dp()\n",
    "len(dp)"
   ]
  },
  {
   "cell_type": "markdown",
   "metadata": {},
   "source": [
    "### Evaluation on ERM model"
   ]
  },
  {
   "cell_type": "code",
   "execution_count": 6,
   "metadata": {},
   "outputs": [
    {
     "name": "stdout",
     "output_type": "stream",
     "text": [
      "772\n"
     ]
    },
    {
     "data": {
      "application/vnd.jupyter.widget-view+json": {
       "model_id": "32b4921d189b40c1967c7c97da6479aa",
       "version_major": 2,
       "version_minor": 0
      },
      "text/plain": [
       "  0%|          | 0/193 [00:00<?, ?it/s]"
      ]
     },
     "metadata": {},
     "output_type": "display_data"
    },
    {
     "name": "stdout",
     "output_type": "stream",
     "text": [
      "Overall/Robust AUROC: 0.3098\n"
     ]
    }
   ],
   "source": [
    "segmentation = False\n",
    "model_pth = \"/home/ksaab/Documents/spatial_specificity/results/dataset_isic/method_erm/lr_0.0005/wd_0.01/dropout_0/seed_1/domino/2uruxdkm/checkpoints/epoch=2-step=230.ckpt\"\n",
    "\n",
    "test_mask = np.array(dp[\"split\"].data) == \"test\"\n",
    "test_dp = dp.lz[test_mask]\n",
    "print(len(test_dp))\n",
    "test_dp_ = get_activations(test_dp, model_pth, segmentation=segmentation, isic=True, batch_size=4)\n",
    "\n",
    "# for segmentation, we have 3 labels, one for background, one for benign and the last for malignant\n",
    "test_probs = test_dp_[\"output\"][:,2] if segmentation else test_dp_[\"output\"][:,1]\n",
    "test_labels = test_dp_[\"target\"][:]\n",
    "overall_score = roc_auc_score(test_labels,test_probs)\n",
    "\n",
    "print(f\"Overall/Robust AUROC: {overall_score:.4f}\")"
   ]
  },
  {
   "cell_type": "markdown",
   "metadata": {},
   "source": [
    "### Evaluation on segmentation model"
   ]
  },
  {
   "cell_type": "code",
   "execution_count": 12,
   "metadata": {},
   "outputs": [
    {
     "data": {
      "application/vnd.jupyter.widget-view+json": {
       "model_id": "a8c32ab220d24d1a949724e4d84a6218",
       "version_major": 2,
       "version_minor": 0
      },
      "text/plain": [
       "  0%|          | 0/193 [00:00<?, ?it/s]"
      ]
     },
     "metadata": {},
     "output_type": "display_data"
    },
    {
     "name": "stdout",
     "output_type": "stream",
     "text": [
      "Overall/Robust AUROC: 0.7724\n"
     ]
    }
   ],
   "source": [
    "segmentation = True\n",
    "model_pth = \"/home/ksaab/Documents/spatial_specificity/results/method_seg/lr_0.0005/wd_0/dropout_0/seed_1/domino/maf4yoer/checkpoints/epoch=1-step=115.ckpt\" \n",
    "\n",
    "test_dp_ = get_activations(test_dp, model_pth, segmentation=segmentation, batch_size=4, isic=True)\n",
    "\n",
    "test_probs = test_dp_[\"output\"][:,2] if segmentation else test_dp_[\"output\"][:,1]\n",
    "test_labels = test_dp_[\"target\"][:]\n",
    "overall_score = roc_auc_score(test_labels,test_probs)\n",
    "\n",
    "print(f\"Overall/Robust AUROC: {overall_score:.4f}\")"
   ]
  },
  {
   "cell_type": "code",
   "execution_count": null,
   "metadata": {},
   "outputs": [],
   "source": []
  }
 ],
 "metadata": {
  "kernelspec": {
   "display_name": "Python 3.9.13 ('mlhc')",
   "language": "python",
   "name": "python3"
  },
  "language_info": {
   "codemirror_mode": {
    "name": "ipython",
    "version": 3
   },
   "file_extension": ".py",
   "mimetype": "text/x-python",
   "name": "python",
   "nbconvert_exporter": "python",
   "pygments_lexer": "ipython3",
   "version": "3.9.13"
  },
  "orig_nbformat": 4,
  "vscode": {
   "interpreter": {
    "hash": "3a6a36074b17304a8837dc0b3291b41cfd5df84b85700cd0671219a2d3dc7477"
   }
  }
 },
 "nbformat": 4,
 "nbformat_minor": 2
}
