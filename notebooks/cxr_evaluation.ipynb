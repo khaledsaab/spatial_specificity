{
 "cells": [
  {
   "cell_type": "code",
   "execution_count": null,
   "metadata": {},
   "outputs": [
    {
     "ename": "",
     "evalue": "",
     "output_type": "error",
     "traceback": [
      "\u001b[1;31mRunning cells with 'Python 3.9.7 64-bit' requires ipykernel package.\n",
      "\u001b[1;31mRun the following command to install 'ipykernel' into the Python environment. \n",
      "\u001b[1;31mCommand: '/usr/bin/python3 -m pip install ipykernel -U --user --force-reinstall'"
     ]
    }
   ],
   "source": [
    "%load_ext autoreload\n",
    "%autoreload 2"
   ]
  },
  {
   "cell_type": "code",
   "execution_count": null,
   "metadata": {},
   "outputs": [],
   "source": [
    "import numpy as np\n",
    "import sys\n",
    "sys.path.append(\"../\")\n",
    "from sklearn.metrics import roc_auc_score\n",
    "from src.data.cxr import build_cxr_dp, get_cxr_activations"
   ]
  },
  {
   "cell_type": "code",
   "execution_count": null,
   "metadata": {},
   "outputs": [],
   "source": [
    "# Get a meerkat DataPanel with the data.\n",
    "dp = build_cxr_dp(\n",
    "        root_dir=\"/media/nvme_data/siim\",\n",
    "        tube_mask=True,\n",
    "        segmentation=True,\n",
    "        augmentation=False,\n",
    "        detection=False,\n",
    "    )\n",
    "len(dp)"
   ]
  },
  {
   "cell_type": "code",
   "execution_count": null,
   "metadata": {},
   "outputs": [],
   "source": [
    "test_dp = dp.lz[dp[\"split\"]==\"test\"]\n",
    "len(test_dp)"
   ]
  },
  {
   "cell_type": "code",
   "execution_count": null,
   "metadata": {},
   "outputs": [],
   "source": [
    "mask = (dp[\"chest_tube\"]==0) & (dp[\"target\"]==1)\n",
    "dp_ = dp.lz[mask]\n",
    "dp_[\"img\"][0]"
   ]
  },
  {
   "cell_type": "code",
   "execution_count": null,
   "metadata": {},
   "outputs": [],
   "source": [
    "def evaluate_robustness(model_pth, segmentation=True, baseline_pth=None, bs=16, device=0, contrastive=False):\n",
    "\n",
    "    test_dp_ = get_cxr_activations(dp=test_dp, model_pth=model_pth, segmentation=segmentation, baseline_pth=baseline_pth, batch_size=bs,device=device, contrastive=contrastive)\n",
    "\n",
    "    test_probs = test_dp_[\"output\"].data[:,1] \n",
    "\n",
    "    test_labels = test_dp_[\"target\"].data\n",
    "    tubes_mask = np.array(test_dp[\"chest_tube\"] == 1)\n",
    "    notubes_mask = np.array(test_dp[\"chest_tube\"] == 0)\n",
    "\n",
    "    overall_score = roc_auc_score(test_labels,test_probs)\n",
    "\n",
    "    neg_mask = np.array(test_labels == 0)\n",
    "    pos_mask = np.array(test_labels == 1)\n",
    "    tube_in_pos_mask = np.logical_or(neg_mask,np.logical_and(pos_mask,tubes_mask))\n",
    "    notube_in_pos_mask = np.logical_or(neg_mask,np.logical_and(pos_mask,notubes_mask))\n",
    "\n",
    "    tube_in_neg_mask = np.logical_or(pos_mask,np.logical_and(neg_mask,tubes_mask))\n",
    "    notube_in_neg_mask = np.logical_or(pos_mask,np.logical_and(neg_mask,notubes_mask))\n",
    "\n",
    "    mask = np.logical_or(np.logical_and(pos_mask,notubes_mask), np.logical_and(neg_mask,tubes_mask))\n",
    "    robust_score = roc_auc_score(test_labels[mask],test_probs[mask])\n",
    "\n",
    "    return (overall_score, robust_score)"
   ]
  },
  {
   "cell_type": "code",
   "execution_count": null,
   "metadata": {},
   "outputs": [],
   "source": [
    "model_pth = \"/home/ksaab/Documents/domino/scratch/khaled/results/method_seg/gaze_split_False/lr_1e-05/wd_0/dropout_0/cw_0.0/seed_123/domino/36c48xso/checkpoints/epoch=17-step=10340.ckpt\"\n",
    "(overall_score, robust_score) = evaluate_robustness(model_pth, segmentation=True, bs=4, device=0, contrastive=False)\n",
    "print(f\"Overall AUROC (pmx): {overall_score:.4f}\")\n",
    "print(f\"Robust AUROC: {robust_score:.3f}\")"
   ]
  }
 ],
 "metadata": {
  "kernelspec": {
   "display_name": "Python 3.9.7 64-bit",
   "language": "python",
   "name": "python3"
  },
  "language_info": {
   "name": "python",
   "version": "3.9.7"
  },
  "orig_nbformat": 4,
  "vscode": {
   "interpreter": {
    "hash": "31f2aee4e71d21fbe5cf8b01ff0e069b9275f58929596ceb00d14d90e3e16cd6"
   }
  }
 },
 "nbformat": 4,
 "nbformat_minor": 2
}
